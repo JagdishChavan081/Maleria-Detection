{
 "cells": [
  {
   "cell_type": "markdown",
   "metadata": {},
   "source": [
    "## Creating CNN Using Scratch And Transfer Learning"
   ]
  },
  {
   "cell_type": "markdown",
   "metadata": {},
   "source": [
    "Please download the dataset from the below url"
   ]
  },
  {
   "cell_type": "code",
   "execution_count": 1,
   "metadata": {},
   "outputs": [],
   "source": [
    "# import the libraries as shown below\n",
    "\n",
    "from tensorflow.keras.layers import Input, Lambda, Dense, Flatten,Conv2D\n",
    "from tensorflow.keras.models import Model\n",
    "from tensorflow.keras.applications.vgg19 import VGG19\n",
    "from tensorflow.keras.applications.resnet50 import preprocess_input\n",
    "from tensorflow.keras.preprocessing import image\n",
    "from tensorflow.keras.preprocessing.image import ImageDataGenerator,load_img\n",
    "from tensorflow.keras.models import Sequential\n",
    "import numpy as np\n",
    "from glob import glob\n",
    "import matplotlib.pyplot as plt"
   ]
  },
  {
   "cell_type": "code",
   "execution_count": 2,
   "metadata": {},
   "outputs": [],
   "source": [
    "# re-size all the images to this\n",
    "IMAGE_SIZE = [224, 224]\n",
    "\n",
    "train_path = '/home/jc/project/Malaria-Detection-master/Dataset/Train'\n",
    "valid_path = '/home/jc/project/Malaria-Detection-master/Dataset/Test'\n"
   ]
  },
  {
   "cell_type": "code",
   "execution_count": 3,
   "metadata": {},
   "outputs": [],
   "source": [
    "# Import the Vgg 16 library as shown below and add preprocessing layer to the front of VGG\n",
    "# Here we will be using imagenet weights\n",
    "\n",
    "mobilnet = VGG19(input_shape=IMAGE_SIZE + [3], weights='imagenet', include_top=False)\n",
    "\n",
    "\n"
   ]
  },
  {
   "cell_type": "code",
   "execution_count": 4,
   "metadata": {},
   "outputs": [],
   "source": [
    "# don't train existing weights\n",
    "for layer in mobilnet.layers:\n",
    "    layer.trainable = False"
   ]
  },
  {
   "cell_type": "code",
   "execution_count": 5,
   "metadata": {},
   "outputs": [],
   "source": [
    "  # useful for getting number of output classes\n",
    "folders = glob('Dataset/Train/*')"
   ]
  },
  {
   "cell_type": "code",
   "execution_count": 6,
   "metadata": {},
   "outputs": [
    {
     "data": {
      "text/plain": [
       "['Dataset/Train/Parasite', 'Dataset/Train/Uninfected']"
      ]
     },
     "execution_count": 6,
     "metadata": {},
     "output_type": "execute_result"
    }
   ],
   "source": [
    "folders"
   ]
  },
  {
   "cell_type": "code",
   "execution_count": 7,
   "metadata": {},
   "outputs": [],
   "source": [
    "# our layers - you can add more if you want\n",
    "x = Flatten()(mobilnet.output)"
   ]
  },
  {
   "cell_type": "code",
   "execution_count": 8,
   "metadata": {},
   "outputs": [],
   "source": [
    "prediction = Dense(len(folders), activation='softmax')(x)\n",
    "\n",
    "# create a model object\n",
    "model = Model(inputs=mobilnet.input, outputs=prediction)"
   ]
  },
  {
   "cell_type": "code",
   "execution_count": 9,
   "metadata": {},
   "outputs": [
    {
     "name": "stdout",
     "output_type": "stream",
     "text": [
      "Model: \"model\"\n",
      "_________________________________________________________________\n",
      "Layer (type)                 Output Shape              Param #   \n",
      "=================================================================\n",
      "input_1 (InputLayer)         [(None, 224, 224, 3)]     0         \n",
      "_________________________________________________________________\n",
      "block1_conv1 (Conv2D)        (None, 224, 224, 64)      1792      \n",
      "_________________________________________________________________\n",
      "block1_conv2 (Conv2D)        (None, 224, 224, 64)      36928     \n",
      "_________________________________________________________________\n",
      "block1_pool (MaxPooling2D)   (None, 112, 112, 64)      0         \n",
      "_________________________________________________________________\n",
      "block2_conv1 (Conv2D)        (None, 112, 112, 128)     73856     \n",
      "_________________________________________________________________\n",
      "block2_conv2 (Conv2D)        (None, 112, 112, 128)     147584    \n",
      "_________________________________________________________________\n",
      "block2_pool (MaxPooling2D)   (None, 56, 56, 128)       0         \n",
      "_________________________________________________________________\n",
      "block3_conv1 (Conv2D)        (None, 56, 56, 256)       295168    \n",
      "_________________________________________________________________\n",
      "block3_conv2 (Conv2D)        (None, 56, 56, 256)       590080    \n",
      "_________________________________________________________________\n",
      "block3_conv3 (Conv2D)        (None, 56, 56, 256)       590080    \n",
      "_________________________________________________________________\n",
      "block3_conv4 (Conv2D)        (None, 56, 56, 256)       590080    \n",
      "_________________________________________________________________\n",
      "block3_pool (MaxPooling2D)   (None, 28, 28, 256)       0         \n",
      "_________________________________________________________________\n",
      "block4_conv1 (Conv2D)        (None, 28, 28, 512)       1180160   \n",
      "_________________________________________________________________\n",
      "block4_conv2 (Conv2D)        (None, 28, 28, 512)       2359808   \n",
      "_________________________________________________________________\n",
      "block4_conv3 (Conv2D)        (None, 28, 28, 512)       2359808   \n",
      "_________________________________________________________________\n",
      "block4_conv4 (Conv2D)        (None, 28, 28, 512)       2359808   \n",
      "_________________________________________________________________\n",
      "block4_pool (MaxPooling2D)   (None, 14, 14, 512)       0         \n",
      "_________________________________________________________________\n",
      "block5_conv1 (Conv2D)        (None, 14, 14, 512)       2359808   \n",
      "_________________________________________________________________\n",
      "block5_conv2 (Conv2D)        (None, 14, 14, 512)       2359808   \n",
      "_________________________________________________________________\n",
      "block5_conv3 (Conv2D)        (None, 14, 14, 512)       2359808   \n",
      "_________________________________________________________________\n",
      "block5_conv4 (Conv2D)        (None, 14, 14, 512)       2359808   \n",
      "_________________________________________________________________\n",
      "block5_pool (MaxPooling2D)   (None, 7, 7, 512)         0         \n",
      "_________________________________________________________________\n",
      "flatten (Flatten)            (None, 25088)             0         \n",
      "_________________________________________________________________\n",
      "dense (Dense)                (None, 2)                 50178     \n",
      "=================================================================\n",
      "Total params: 20,074,562\n",
      "Trainable params: 50,178\n",
      "Non-trainable params: 20,024,384\n",
      "_________________________________________________________________\n"
     ]
    }
   ],
   "source": [
    "\n",
    "# view the structure of the model\n",
    "model.summary()\n"
   ]
  },
  {
   "cell_type": "code",
   "execution_count": 10,
   "metadata": {},
   "outputs": [],
   "source": [
    "from tensorflow.keras.layers import MaxPooling2D"
   ]
  },
  {
   "cell_type": "code",
   "execution_count": 11,
   "metadata": {},
   "outputs": [
    {
     "name": "stdout",
     "output_type": "stream",
     "text": [
      "Model: \"sequential\"\n",
      "_________________________________________________________________\n",
      "Layer (type)                 Output Shape              Param #   \n",
      "=================================================================\n",
      "conv2d (Conv2D)              (None, 224, 224, 16)      208       \n",
      "_________________________________________________________________\n",
      "max_pooling2d (MaxPooling2D) (None, 112, 112, 16)      0         \n",
      "_________________________________________________________________\n",
      "conv2d_1 (Conv2D)            (None, 112, 112, 32)      2080      \n",
      "_________________________________________________________________\n",
      "max_pooling2d_1 (MaxPooling2 (None, 56, 56, 32)        0         \n",
      "_________________________________________________________________\n",
      "conv2d_2 (Conv2D)            (None, 56, 56, 64)        8256      \n",
      "_________________________________________________________________\n",
      "max_pooling2d_2 (MaxPooling2 (None, 28, 28, 64)        0         \n",
      "_________________________________________________________________\n",
      "flatten_1 (Flatten)          (None, 50176)             0         \n",
      "_________________________________________________________________\n",
      "dense_1 (Dense)              (None, 500)               25088500  \n",
      "_________________________________________________________________\n",
      "dense_2 (Dense)              (None, 2)                 1002      \n",
      "=================================================================\n",
      "Total params: 25,100,046\n",
      "Trainable params: 25,100,046\n",
      "Non-trainable params: 0\n",
      "_________________________________________________________________\n"
     ]
    }
   ],
   "source": [
    "### Create Model from scratch using CNN\n",
    "model=Sequential()\n",
    "model.add(Conv2D(filters=16,kernel_size=2,padding=\"same\",activation=\"relu\",input_shape=(224,224,3)))\n",
    "model.add(MaxPooling2D(pool_size=2))\n",
    "model.add(Conv2D(filters=32,kernel_size=2,padding=\"same\",activation =\"relu\"))\n",
    "model.add(MaxPooling2D(pool_size=2))\n",
    "model.add(Conv2D(filters=64,kernel_size=2,padding=\"same\",activation=\"relu\"))\n",
    "model.add(MaxPooling2D(pool_size=2))\n",
    "model.add(Flatten())\n",
    "model.add(Dense(500,activation=\"relu\"))\n",
    "model.add(Dense(2,activation=\"softmax\"))\n",
    "model.summary()"
   ]
  },
  {
   "cell_type": "code",
   "execution_count": 12,
   "metadata": {},
   "outputs": [],
   "source": [
    "# tell the model what cost and optimization method to use\n",
    "model.compile(\n",
    "  loss='categorical_crossentropy',\n",
    "  optimizer='adam',\n",
    "  metrics=['accuracy']\n",
    ")\n"
   ]
  },
  {
   "cell_type": "code",
   "execution_count": 13,
   "metadata": {},
   "outputs": [],
   "source": [
    "# Use the Image Data Generator to import the images from the dataset\n",
    "from tensorflow.keras.preprocessing.image import ImageDataGenerator\n",
    "\n",
    "train_datagen = ImageDataGenerator(rescale = 1./255,\n",
    "                                   shear_range = 0.2,\n",
    "                                   zoom_range = 0.2,\n",
    "                                   horizontal_flip = True)\n",
    "\n",
    "test_datagen = ImageDataGenerator(rescale = 1./255)"
   ]
  },
  {
   "cell_type": "code",
   "execution_count": 14,
   "metadata": {},
   "outputs": [
    {
     "name": "stdout",
     "output_type": "stream",
     "text": [
      "Found 416 images belonging to 2 classes.\n"
     ]
    }
   ],
   "source": [
    "# Make sure you provide the same target size as initialied for the image size\n",
    "training_set = train_datagen.flow_from_directory('Dataset/Train',\n",
    "                                                 target_size = (224, 224),\n",
    "                                                 batch_size = 32,\n",
    "                                                 class_mode = 'categorical')"
   ]
  },
  {
   "cell_type": "code",
   "execution_count": 15,
   "metadata": {},
   "outputs": [
    {
     "data": {
      "text/plain": [
       "<keras_preprocessing.image.directory_iterator.DirectoryIterator at 0x7f64f83e1c40>"
      ]
     },
     "execution_count": 15,
     "metadata": {},
     "output_type": "execute_result"
    }
   ],
   "source": [
    "training_set"
   ]
  },
  {
   "cell_type": "code",
   "execution_count": 16,
   "metadata": {},
   "outputs": [
    {
     "name": "stdout",
     "output_type": "stream",
     "text": [
      "Found 134 images belonging to 2 classes.\n"
     ]
    }
   ],
   "source": [
    "test_set = test_datagen.flow_from_directory('Dataset/Test',\n",
    "                                            target_size = (224, 224),\n",
    "                                            batch_size = 32,\n",
    "                                            class_mode = 'categorical')"
   ]
  },
  {
   "cell_type": "code",
   "execution_count": 17,
   "metadata": {
    "scrolled": true
   },
   "outputs": [
    {
     "name": "stdout",
     "output_type": "stream",
     "text": [
      "WARNING:tensorflow:From <ipython-input-17-6ec5a35725ca>:3: Model.fit_generator (from tensorflow.python.keras.engine.training) is deprecated and will be removed in a future version.\n",
      "Instructions for updating:\n",
      "Please use Model.fit, which supports generators.\n",
      "Epoch 1/5\n",
      "13/13 [==============================] - 13s 969ms/step - loss: 1.3407 - accuracy: 0.5505 - val_loss: 0.7238 - val_accuracy: 0.4104\n",
      "Epoch 2/5\n",
      "13/13 [==============================] - 12s 897ms/step - loss: 0.5995 - accuracy: 0.6466 - val_loss: 0.6761 - val_accuracy: 0.6567\n",
      "Epoch 3/5\n",
      "13/13 [==============================] - 11s 874ms/step - loss: 0.5811 - accuracy: 0.6731 - val_loss: 0.9231 - val_accuracy: 0.3358\n",
      "Epoch 4/5\n",
      "13/13 [==============================] - 11s 880ms/step - loss: 0.4722 - accuracy: 0.7596 - val_loss: 0.8323 - val_accuracy: 0.4776\n",
      "Epoch 5/5\n",
      "13/13 [==============================] - 11s 883ms/step - loss: 0.4478 - accuracy: 0.7788 - val_loss: 0.9762 - val_accuracy: 0.4104\n"
     ]
    }
   ],
   "source": [
    "# fit the model\n",
    "# Run the cell. It will take some time to execute\n",
    "r = model.fit_generator(\n",
    "  training_set,\n",
    "  validation_data=test_set,\n",
    "  epochs=5,\n",
    "  steps_per_epoch=len(training_set),\n",
    "  validation_steps=len(test_set)\n",
    ")"
   ]
  },
  {
   "cell_type": "code",
   "execution_count": null,
   "metadata": {},
   "outputs": [],
   "source": []
  },
  {
   "cell_type": "code",
   "execution_count": 18,
   "metadata": {},
   "outputs": [
    {
     "data": {
      "image/png": "[encoded data removed]",
      "text/plain": [
       "<Figure size 432x288 with 1 Axes>"
      ]
     },
     "metadata": {
      "needs_background": "light"
     },
     "output_type": "display_data"
    },
    {
     "data": {
      "image/png": "[encoded data removed]",
      "text/plain": [
       "<Figure size 432x288 with 1 Axes>"
      ]
     },
     "metadata": {
      "needs_background": "light"
     },
     "output_type": "display_data"
    },
    {
     "data": {
      "text/plain": [
       "<Figure size 432x288 with 0 Axes>"
      ]
     },
     "metadata": {},
     "output_type": "display_data"
    }
   ],
   "source": [
    "# plot the loss\n",
    "plt.plot(r.history['loss'], label='train loss')\n",
    "plt.plot(r.history['val_loss'], label='val loss')\n",
    "plt.legend()\n",
    "plt.show()\n",
    "plt.savefig('LossVal_loss')\n",
    "\n",
    "# plot the accuracy\n",
    "plt.plot(r.history['accuracy'], label='train acc')\n",
    "plt.plot(r.history['val_accuracy'], label='val acc')\n",
    "plt.legend()\n",
    "plt.show()\n",
    "plt.savefig('AccVal_acc')"
   ]
  },
  {
   "cell_type": "code",
   "execution_count": 19,
   "metadata": {},
   "outputs": [],
   "source": [
    "# save it as a h5 file\n",
    "\n",
    "\n",
    "from tensorflow.keras.models import load_model\n",
    "\n",
    "model.save('model_vgg19.h5')"
   ]
  },
  {
   "cell_type": "code",
   "execution_count": null,
   "metadata": {},
   "outputs": [],
   "source": []
  },
  {
   "cell_type": "code",
   "execution_count": 20,
   "metadata": {},
   "outputs": [],
   "source": [
    "\n",
    "y_pred = model.predict(test_set)\n"
   ]
  },
  {
   "cell_type": "code",
   "execution_count": 21,
   "metadata": {},
   "outputs": [
    {
     "data": {
      "text/plain": [
       "array([[0.44155988, 0.5584401 ],\n",
       "       [0.53851587, 0.46148407],\n",
       "       [0.48040566, 0.5195943 ],\n",
       "       [0.21894307, 0.78105694],\n",
       "       [0.67077947, 0.32922053],\n",
       "       [0.3868604 , 0.61313957],\n",
       "       [0.5256888 , 0.47431114],\n",
       "       [0.3776068 , 0.6223932 ],\n",
       "       [0.74885964, 0.2511404 ],\n",
       "       [0.44635025, 0.5536497 ],\n",
       "       [0.9793235 , 0.02067651],\n",
       "       [0.7171281 , 0.2828719 ],\n",
       "       [0.7579844 , 0.24201559],\n",
       "       [0.50639826, 0.49360174],\n",
       "       [0.26389432, 0.7361057 ],\n",
       "       [0.9363991 , 0.06360083],\n",
       "       [0.944074  , 0.05592604],\n",
       "       [0.8834397 , 0.11656033],\n",
       "       [0.38597998, 0.61402   ],\n",
       "       [0.7841969 , 0.2158031 ],\n",
       "       [0.8674771 , 0.13252288],\n",
       "       [0.69296634, 0.30703363],\n",
       "       [0.21531251, 0.78468746],\n",
       "       [0.6139123 , 0.38608772],\n",
       "       [0.77299947, 0.2270005 ],\n",
       "       [0.2534018 , 0.7465982 ],\n",
       "       [0.65436697, 0.34563303],\n",
       "       [0.6720234 , 0.32797664],\n",
       "       [0.82900846, 0.17099157],\n",
       "       [0.80660874, 0.19339132],\n",
       "       [0.46787572, 0.53212434],\n",
       "       [0.6836867 , 0.31631333],\n",
       "       [0.7922474 , 0.2077526 ],\n",
       "       [0.24317475, 0.75682527],\n",
       "       [0.20856331, 0.7914367 ],\n",
       "       [0.8884171 , 0.11158286],\n",
       "       [0.29596844, 0.7040316 ],\n",
       "       [0.7275626 , 0.2724373 ],\n",
       "       [0.25437233, 0.74562764],\n",
       "       [0.84192896, 0.15807109],\n",
       "       [0.49115628, 0.5088437 ],\n",
       "       [0.90425   , 0.09575002],\n",
       "       [0.844949  , 0.15505104],\n",
       "       [0.7084985 , 0.2915015 ],\n",
       "       [0.52275145, 0.4772486 ],\n",
       "       [0.814536  , 0.18546405],\n",
       "       [0.6120968 , 0.38790324],\n",
       "       [0.32273424, 0.67726576],\n",
       "       [0.49952272, 0.5004773 ],\n",
       "       [0.776051  , 0.22394907],\n",
       "       [0.1930768 , 0.8069232 ],\n",
       "       [0.5962975 , 0.40370256],\n",
       "       [0.87657154, 0.12342848],\n",
       "       [0.4720636 , 0.5279364 ],\n",
       "       [0.22799787, 0.77200216],\n",
       "       [0.822763  , 0.17723694],\n",
       "       [0.6628869 , 0.33711308],\n",
       "       [0.75655645, 0.24344356],\n",
       "       [0.25716063, 0.7428394 ],\n",
       "       [0.9463802 , 0.05361977],\n",
       "       [0.32267597, 0.67732406],\n",
       "       [0.27418178, 0.7258182 ],\n",
       "       [0.25684863, 0.74315137],\n",
       "       [0.4996674 , 0.5003326 ],\n",
       "       [0.5688404 , 0.4311597 ],\n",
       "       [0.8901899 , 0.10981009],\n",
       "       [0.7695338 , 0.2304662 ],\n",
       "       [0.9157264 , 0.08427354],\n",
       "       [0.4999241 , 0.50007594],\n",
       "       [0.86697984, 0.13302019],\n",
       "       [0.4412072 , 0.55879277],\n",
       "       [0.5213669 , 0.47863305],\n",
       "       [0.38849103, 0.6115089 ],\n",
       "       [0.5093829 , 0.49061713],\n",
       "       [0.68185097, 0.318149  ],\n",
       "       [0.929071  , 0.07092902],\n",
       "       [0.7036596 , 0.29634044],\n",
       "       [0.577589  , 0.42241096],\n",
       "       [0.5436093 , 0.45639065],\n",
       "       [0.3609853 , 0.6390147 ],\n",
       "       [0.22164975, 0.7783503 ],\n",
       "       [0.7829618 , 0.21703823],\n",
       "       [0.39472947, 0.60527056],\n",
       "       [0.67910403, 0.32089597],\n",
       "       [0.2286212 , 0.7713788 ],\n",
       "       [0.8623002 , 0.13769978],\n",
       "       [0.18915384, 0.81084615],\n",
       "       [0.9139487 , 0.08605132],\n",
       "       [0.87003094, 0.12996905],\n",
       "       [0.34090623, 0.65909374],\n",
       "       [0.3423096 , 0.6576904 ],\n",
       "       [0.2692166 , 0.73078334],\n",
       "       [0.2876505 , 0.71234953],\n",
       "       [0.8832265 , 0.11677354],\n",
       "       [0.36290887, 0.6370911 ],\n",
       "       [0.2211374 , 0.7788626 ],\n",
       "       [0.76449823, 0.23550184],\n",
       "       [0.16245891, 0.8375411 ],\n",
       "       [0.32857567, 0.67142427],\n",
       "       [0.3903195 , 0.60968053],\n",
       "       [0.73573995, 0.26426008],\n",
       "       [0.5834712 , 0.4165288 ],\n",
       "       [0.8266815 , 0.1733186 ],\n",
       "       [0.5140232 , 0.4859768 ],\n",
       "       [0.621584  , 0.378416  ],\n",
       "       [0.29010308, 0.70989686],\n",
       "       [0.6138998 , 0.38610014],\n",
       "       [0.3151887 , 0.6848113 ],\n",
       "       [0.6137529 , 0.3862471 ],\n",
       "       [0.8025228 , 0.19747716],\n",
       "       [0.9258218 , 0.07417826],\n",
       "       [0.8430918 , 0.15690818],\n",
       "       [0.6096451 , 0.39035484],\n",
       "       [0.70625937, 0.2937406 ],\n",
       "       [0.2307151 , 0.7692849 ],\n",
       "       [0.90244794, 0.09755206],\n",
       "       [0.35035327, 0.6496467 ],\n",
       "       [0.81810284, 0.18189716],\n",
       "       [0.61477214, 0.38522783],\n",
       "       [0.3830369 , 0.6169631 ],\n",
       "       [0.78657055, 0.21342951],\n",
       "       [0.8267138 , 0.17328615],\n",
       "       [0.5281109 , 0.47188902],\n",
       "       [0.8586391 , 0.14136086],\n",
       "       [0.740197  , 0.25980303],\n",
       "       [0.80628455, 0.19371545],\n",
       "       [0.20716701, 0.792833  ],\n",
       "       [0.9453533 , 0.05464663],\n",
       "       [0.92649907, 0.07350086],\n",
       "       [0.6183605 , 0.38163954],\n",
       "       [0.5935066 , 0.40649337],\n",
       "       [0.41195494, 0.58804506],\n",
       "       [0.853508  , 0.14649193],\n",
       "       [0.7688389 , 0.23116113]], dtype=float32)"
      ]
     },
     "execution_count": 21,
     "metadata": {},
     "output_type": "execute_result"
    }
   ],
   "source": [
    "y_pred"
   ]
  },
  {
   "cell_type": "code",
   "execution_count": 22,
   "metadata": {},
   "outputs": [],
   "source": [
    "import numpy as np\n",
    "y_pred = np.argmax(y_pred, axis=1)"
   ]
  },
  {
   "cell_type": "code",
   "execution_count": 23,
   "metadata": {},
   "outputs": [
    {
     "data": {
      "text/plain": [
       "array([1, 0, 1, 1, 0, 1, 0, 1, 0, 1, 0, 0, 0, 0, 1, 0, 0, 0, 1, 0, 0, 0,\n",
       "       1, 0, 0, 1, 0, 0, 0, 0, 1, 0, 0, 1, 1, 0, 1, 0, 1, 0, 1, 0, 0, 0,\n",
       "       0, 0, 0, 1, 1, 0, 1, 0, 0, 1, 1, 0, 0, 0, 1, 0, 1, 1, 1, 1, 0, 0,\n",
       "       0, 0, 1, 0, 1, 0, 1, 0, 0, 0, 0, 0, 0, 1, 1, 0, 1, 0, 1, 0, 1, 0,\n",
       "       0, 1, 1, 1, 1, 0, 1, 1, 0, 1, 1, 1, 0, 0, 0, 0, 0, 1, 0, 1, 0, 0,\n",
       "       0, 0, 0, 0, 1, 0, 1, 0, 0, 1, 0, 0, 0, 0, 0, 0, 1, 0, 0, 0, 0, 1,\n",
       "       0, 0])"
      ]
     },
     "execution_count": 23,
     "metadata": {},
     "output_type": "execute_result"
    }
   ],
   "source": [
    "y_pred"
   ]
  },
  {
   "cell_type": "code",
   "execution_count": null,
   "metadata": {},
   "outputs": [],
   "source": []
  },
  {
   "cell_type": "code",
   "execution_count": 24,
   "metadata": {},
   "outputs": [],
   "source": [
    "from tensorflow.keras.models import load_model\n",
    "from tensorflow.keras.preprocessing import image"
   ]
  },
  {
   "cell_type": "code",
   "execution_count": 25,
   "metadata": {},
   "outputs": [],
   "source": [
    "model=load_model('model_vgg19.h5')"
   ]
  },
  {
   "cell_type": "code",
   "execution_count": null,
   "metadata": {},
   "outputs": [],
   "source": []
  },
  {
   "cell_type": "code",
   "execution_count": 82,
   "metadata": {},
   "outputs": [],
   "source": [
    "img=image.load_img('/home/jc/project/Malaria-Detection-master/Dataset/Test/Uninfected/C3thin_original_IMG_20150608_162922_cell_191.png',target_size=(224,224))\n",
    "\n"
   ]
  },
  {
   "cell_type": "code",
   "execution_count": 83,
   "metadata": {},
   "outputs": [
    {
     "data": {
      "text/plain": [
       "array([[[0., 0., 0.],\n",
       "        [0., 0., 0.],\n",
       "        [0., 0., 0.],\n",
       "        ...,\n",
       "        [0., 0., 0.],\n",
       "        [0., 0., 0.],\n",
       "        [0., 0., 0.]],\n",
       "\n",
       "       [[0., 0., 0.],\n",
       "        [0., 0., 0.],\n",
       "        [0., 0., 0.],\n",
       "        ...,\n",
       "        [0., 0., 0.],\n",
       "        [0., 0., 0.],\n",
       "        [0., 0., 0.]],\n",
       "\n",
       "       [[0., 0., 0.],\n",
       "        [0., 0., 0.],\n",
       "        [0., 0., 0.],\n",
       "        ...,\n",
       "        [0., 0., 0.],\n",
       "        [0., 0., 0.],\n",
       "        [0., 0., 0.]],\n",
       "\n",
       "       ...,\n",
       "\n",
       "       [[0., 0., 0.],\n",
       "        [0., 0., 0.],\n",
       "        [0., 0., 0.],\n",
       "        ...,\n",
       "        [0., 0., 0.],\n",
       "        [0., 0., 0.],\n",
       "        [0., 0., 0.]],\n",
       "\n",
       "       [[0., 0., 0.],\n",
       "        [0., 0., 0.],\n",
       "        [0., 0., 0.],\n",
       "        ...,\n",
       "        [0., 0., 0.],\n",
       "        [0., 0., 0.],\n",
       "        [0., 0., 0.]],\n",
       "\n",
       "       [[0., 0., 0.],\n",
       "        [0., 0., 0.],\n",
       "        [0., 0., 0.],\n",
       "        ...,\n",
       "        [0., 0., 0.],\n",
       "        [0., 0., 0.],\n",
       "        [0., 0., 0.]]], dtype=float32)"
      ]
     },
     "execution_count": 83,
     "metadata": {},
     "output_type": "execute_result"
    }
   ],
   "source": [
    "x=image.img_to_array(img)\n",
    "x"
   ]
  },
  {
   "cell_type": "code",
   "execution_count": 84,
   "metadata": {},
   "outputs": [
    {
     "data": {
      "text/plain": [
       "(224, 224, 3)"
      ]
     },
     "execution_count": 84,
     "metadata": {},
     "output_type": "execute_result"
    }
   ],
   "source": [
    "x.shape"
   ]
  },
  {
   "cell_type": "code",
   "execution_count": 89,
   "metadata": {},
   "outputs": [
    {
     "data": {
      "text/plain": [
       "array([[[[-0.4850196 , -0.45795685, -0.40760392],\n",
       "         [-0.4850196 , -0.45795685, -0.40760392],\n",
       "         [-0.4850196 , -0.45795685, -0.40760392],\n",
       "         ...,\n",
       "         [-0.4850196 , -0.45795685, -0.40760392],\n",
       "         [-0.4850196 , -0.45795685, -0.40760392],\n",
       "         [-0.4850196 , -0.45795685, -0.40760392]],\n",
       "\n",
       "        [[-0.4850196 , -0.45795685, -0.40760392],\n",
       "         [-0.4850196 , -0.45795685, -0.40760392],\n",
       "         [-0.4850196 , -0.45795685, -0.40760392],\n",
       "         ...,\n",
       "         [-0.4850196 , -0.45795685, -0.40760392],\n",
       "         [-0.4850196 , -0.45795685, -0.40760392],\n",
       "         [-0.4850196 , -0.45795685, -0.40760392]],\n",
       "\n",
       "        [[-0.4850196 , -0.45795685, -0.40760392],\n",
       "         [-0.4850196 , -0.45795685, -0.40760392],\n",
       "         [-0.4850196 , -0.45795685, -0.40760392],\n",
       "         ...,\n",
       "         [-0.4850196 , -0.45795685, -0.40760392],\n",
       "         [-0.4850196 , -0.45795685, -0.40760392],\n",
       "         [-0.4850196 , -0.45795685, -0.40760392]],\n",
       "\n",
       "        ...,\n",
       "\n",
       "        [[-0.4850196 , -0.45795685, -0.40760392],\n",
       "         [-0.4850196 , -0.45795685, -0.40760392],\n",
       "         [-0.4850196 , -0.45795685, -0.40760392],\n",
       "         ...,\n",
       "         [-0.4850196 , -0.45795685, -0.40760392],\n",
       "         [-0.4850196 , -0.45795685, -0.40760392],\n",
       "         [-0.4850196 , -0.45795685, -0.40760392]],\n",
       "\n",
       "        [[-0.4850196 , -0.45795685, -0.40760392],\n",
       "         [-0.4850196 , -0.45795685, -0.40760392],\n",
       "         [-0.4850196 , -0.45795685, -0.40760392],\n",
       "         ...,\n",
       "         [-0.4850196 , -0.45795685, -0.40760392],\n",
       "         [-0.4850196 , -0.45795685, -0.40760392],\n",
       "         [-0.4850196 , -0.45795685, -0.40760392]],\n",
       "\n",
       "        [[-0.4850196 , -0.45795685, -0.40760392],\n",
       "         [-0.4850196 , -0.45795685, -0.40760392],\n",
       "         [-0.4850196 , -0.45795685, -0.40760392],\n",
       "         ...,\n",
       "         [-0.4850196 , -0.45795685, -0.40760392],\n",
       "         [-0.4850196 , -0.45795685, -0.40760392],\n",
       "         [-0.4850196 , -0.45795685, -0.40760392]]]], dtype=float32)"
      ]
     },
     "execution_count": 89,
     "metadata": {},
     "output_type": "execute_result"
    }
   ],
   "source": [
    "x=x/255\n",
    "x"
   ]
  },
  {
   "cell_type": "code",
   "execution_count": 86,
   "metadata": {},
   "outputs": [
    {
     "data": {
      "text/plain": [
       "(1, 224, 224, 3)"
      ]
     },
     "execution_count": 86,
     "metadata": {},
     "output_type": "execute_result"
    }
   ],
   "source": [
    "x=np.expand_dims(x,axis=0)\n",
    "img_data=preprocess_input(x)\n",
    "img_data.shape\n"
   ]
  },
  {
   "cell_type": "code",
   "execution_count": 87,
   "metadata": {},
   "outputs": [
    {
     "data": {
      "text/plain": [
       "array([[1., 0.]], dtype=float32)"
      ]
     },
     "execution_count": 87,
     "metadata": {},
     "output_type": "execute_result"
    }
   ],
   "source": [
    "model.predict(img_data)"
   ]
  },
  {
   "cell_type": "code",
   "execution_count": 88,
   "metadata": {},
   "outputs": [
    {
     "name": "stdout",
     "output_type": "stream",
     "text": [
      "[0]\n",
      "Infected\n"
     ]
    }
   ],
   "source": [
    "a=np.argmax(model.predict(img_data), axis=1)\n",
    "print(a)\n",
    "\n",
    "if a==1:\n",
    "    print(\"Uninfected\")\n",
    "if a==0:\n",
    "    print(\"Infected\")"
   ]
  },
  {
   "cell_type": "code",
   "execution_count": 80,
   "metadata": {},
   "outputs": [
    {
     "name": "stdout",
     "output_type": "stream",
     "text": [
      "Infected\n"
     ]
    }
   ],
   "source": []
  },
  {
   "cell_type": "code",
   "execution_count": null,
   "metadata": {},
   "outputs": [],
   "source": []
  },
  {
   "cell_type": "code",
   "execution_count": null,
   "metadata": {},
   "outputs": [],
   "source": []
  }
 ],
 "metadata": {
  "interpreter": {
   "hash": "3c2b1cd99997acb1a03d8b2fffe757cadb5437026f0a4a11a7a099a6ad9e1df8"
  },
  "kernelspec": {
   "display_name": "Python 3",
   "language": "python",
   "name": "python3"
  },
  "language_info": {
   "codemirror_mode": {
    "name": "ipython",
    "version": 3
   },
   "file_extension": ".py",
   "mimetype": "text/x-python",
   "name": "python",
   "nbconvert_exporter": "python",
   "pygments_lexer": "ipython3",
   "version": "3.8.11"
  }
 },
 "nbformat": 4,
 "nbformat_minor": 2
}
